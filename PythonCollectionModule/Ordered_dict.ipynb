{
  "cells": [
    {
      "cell_type": "markdown",
      "source": "Ordered Dictionary   \nIt Remembers the order in which contents are added. It is a subclass of Dictionary.   \nLets understand first how normal dictionary behaves:\n\n",
      "metadata": {
        "pycharm": {
          "metadata": false
        }
      }
    },
    {
      "cell_type": "code",
      "execution_count": 8,
      "outputs": [],
      "source": "d \u003d {}\nd[\u0027a\u0027] \u003d \u0027A\u0027\nd[\u0027b\u0027] \u003d \u0027B\u0027\nd[\u0027c\u0027] \u003d \u0027C\u0027\n",
      "metadata": {
        "pycharm": {
          "metadata": false,
          "name": "#%%\n",
          "is_executing": false
        }
      }
    },
    {
      "cell_type": "markdown",
      "source": "Lets try printing the dictionary object:\n\n",
      "metadata": {
        "pycharm": {
          "metadata": false
        }
      }
    },
    {
      "cell_type": "code",
      "execution_count": 9,
      "outputs": [
        {
          "data": {
            "text/plain": "{\u0027a\u0027: \u0027A\u0027, \u0027b\u0027: \u0027B\u0027, \u0027c\u0027: \u0027C\u0027}"
          },
          "metadata": {},
          "output_type": "execute_result",
          "execution_count": 9
        }
      ],
      "source": "d",
      "metadata": {
        "pycharm": {
          "metadata": false,
          "name": "#%%\n",
          "is_executing": false
        }
      }
    },
    {
      "cell_type": "markdown",
      "source": "As we can see its alphabatical.  \nNow lets traverse it or print it using print function , which traverses it internally\n\n",
      "metadata": {
        "pycharm": {
          "metadata": false
        }
      }
    },
    {
      "cell_type": "code",
      "execution_count": 10,
      "outputs": [
        {
          "name": "stdout",
          "text": [
            "{\u0027b\u0027: \u0027B\u0027, \u0027a\u0027: \u0027A\u0027, \u0027c\u0027: \u0027C\u0027}\nkey: b , val: B\nkey: a , val: A\nkey: c , val: C\n"
          ],
          "output_type": "stream"
        }
      ],
      "source": "print(d)\nfor key, value in d.items():\n    print(\"key: {} , val: {}\".format(key,value))\n",
      "metadata": {
        "pycharm": {
          "metadata": false,
          "name": "#%%\n",
          "is_executing": false
        }
      }
    },
    {
      "cell_type": "markdown",
      "source": "Here as we can see\n- the order in which it is printed is different from what we inserted in. \n- Print function  and traversing prints in same order.\n\n### We can use Ordered Dictionary to maintain the order of declaration in its traversal.\n",
      "metadata": {
        "pycharm": {
          "metadata": false
        }
      }
    },
    {
      "cell_type": "code",
      "execution_count": 11,
      "outputs": [
        {
          "name": "stdout",
          "text": [
            "OrderedDict([(\u0027a\u0027, \u0027A\u0027), (\u0027b\u0027, \u0027B\u0027), (\u0027c\u0027, \u0027C\u0027)])\nkey: a , val: A\nkey: b , val: B\nkey: c , val: C\n"
          ],
          "output_type": "stream"
        }
      ],
      "source": "from collections import OrderedDict\n\nd \u003d OrderedDict()\nd[\u0027a\u0027] \u003d \u0027A\u0027\nd[\u0027b\u0027] \u003d \u0027B\u0027\nd[\u0027c\u0027] \u003d \u0027C\u0027\n\nprint(d)\n\nfor key, value in d.items():\n    print(\"key: {} , val: {}\".format(key,value))\n",
      "metadata": {
        "pycharm": {
          "metadata": false,
          "name": "#%%\n",
          "is_executing": false
        }
      }
    },
    {
      "cell_type": "markdown",
      "source": "As we can see now, In ordered dictionary order of daclaration is preserved. \n\n#### Two dictionaries d1 and d2 are created. In Both same key value pairs are added\nbut in different order, even then d1 \u003d\u003d d2 will return true.\n\n",
      "metadata": {
        "pycharm": {
          "metadata": false
        }
      }
    },
    {
      "cell_type": "code",
      "execution_count": 12,
      "outputs": [
        {
          "name": "stdout",
          "text": [
            "True\n"
          ],
          "output_type": "stream"
        }
      ],
      "source": "d1 \u003d {}\nd1[\u0027a\u0027] \u003d \u0027A\u0027\nd1[\u0027b\u0027] \u003d \u0027B\u0027\n\nd2 \u003d {}\nd2[\u0027b\u0027] \u003d \u0027B\u0027\nd2[\u0027a\u0027] \u003d \u0027A\u0027\n\nprint(d1 \u003d\u003d d2)\n",
      "metadata": {
        "pycharm": {
          "metadata": false,
          "name": "#%%\n",
          "is_executing": false
        }
      }
    },
    {
      "cell_type": "markdown",
      "source": "As we can see It returns True.   \nLets try same with ordered dictionary:\n",
      "metadata": {
        "pycharm": {
          "metadata": false
        }
      }
    },
    {
      "cell_type": "code",
      "execution_count": 13,
      "outputs": [
        {
          "name": "stdout",
          "text": [
            "False\n"
          ],
          "output_type": "stream"
        }
      ],
      "source": "d1 \u003d OrderedDict()\nd1[\u0027a\u0027] \u003d \u0027A\u0027\nd1[\u0027b\u0027] \u003d \u0027B\u0027\n\nd2 \u003d OrderedDict()\nd2[\u0027b\u0027] \u003d \u0027B\u0027\nd2[\u0027a\u0027] \u003d \u0027A\u0027\n\nprint(d1 \u003d\u003d d2)",
      "metadata": {
        "pycharm": {
          "metadata": false,
          "name": "#%%\n",
          "is_executing": false
        }
      }
    },
    {
      "cell_type": "markdown",
      "source": "- In orderedDict, Order of declaration matters. **If two orderedDictionariew have\nsame key value pair but in different order, then will be considered different**.\n\n\n\n\n",
      "metadata": {
        "pycharm": {
          "metadata": false
        }
      }
    }
  ],
  "metadata": {
    "language_info": {
      "codemirror_mode": {
        "name": "ipython",
        "version": 2
      },
      "file_extension": ".py",
      "mimetype": "text/x-python",
      "name": "python",
      "nbconvert_exporter": "python",
      "pygments_lexer": "ipython2",
      "version": "2.7.6"
    },
    "kernelspec": {
      "name": "python3",
      "language": "python",
      "display_name": "Python 3"
    },
    "stem_cell": {
      "cell_type": "raw",
      "source": "",
      "metadata": {
        "pycharm": {
          "metadata": false
        }
      }
    }
  },
  "nbformat": 4,
  "nbformat_minor": 0
}