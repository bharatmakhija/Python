{
  "cells": [
    {
      "cell_type": "markdown",
      "source": "Collection Module -- Counter",
      "metadata": {
        "pycharm": {
          "metadata": false,
          "name": "#%% md\n"
        }
      }
    },
    {
      "cell_type": "code",
      "execution_count": 1,
      "outputs": [
        {
          "data": {
            "text/plain": "Counter({1: 5, 2: 7, 3: 4, 5: 2, 33: 1, 34: 1})"
          },
          "metadata": {},
          "output_type": "execute_result",
          "execution_count": 1
        }
      ],
      "source": "from collections import Counter\n\nmy_list \u003d [1,1,1,1,1,2,2,2,2,2,3,33,2,2,3,3,3,34,5,5,]\nCounter(my_list)",
      "metadata": {
        "pycharm": {
          "metadata": false,
          "name": "#%%\n",
          "is_executing": false
        }
      }
    },
    {
      "cell_type": "markdown",
      "source": "It counts occurance of each item in a list. ",
      "metadata": {
        "pycharm": {
          "metadata": false
        }
      }
    },
    {
      "cell_type": "markdown",
      "source": "Repating with Strings:\n",
      "metadata": {
        "pycharm": {
          "metadata": false
        }
      }
    },
    {
      "cell_type": "code",
      "execution_count": 2,
      "outputs": [
        {
          "data": {
            "text/plain": "Counter({\u0027a\u0027: 5, \u0027d\u0027: 6, \u0027f\u0027: 6, \u0027s\u0027: 7})"
          },
          "metadata": {},
          "output_type": "execute_result",
          "execution_count": 2
        }
      ],
      "source": "s \u003d \u0027asdasfdsafdsfsdfsadfasdf\u0027\nCounter(s)",
      "metadata": {
        "pycharm": {
          "metadata": false,
          "name": "#%%\n",
          "is_executing": false
        }
      }
    },
    {
      "cell_type": "markdown",
      "source": "So the order is alphabetic is the counter i.e. from a to z and their count is maintained.\n",
      "metadata": {
        "pycharm": {
          "metadata": false
        }
      }
    },
    {
      "cell_type": "markdown",
      "source": "We can create a word counter using this:",
      "metadata": {
        "pycharm": {
          "metadata": false
        }
      }
    },
    {
      "cell_type": "code",
      "execution_count": 3,
      "outputs": [
        {
          "data": {
            "text/plain": "Counter({\u0027are\u0027: 2, \u0027hello\u0027: 2, \u0027how\u0027: 3, \u0027man\u0027: 1, \u0027you\u0027: 2})"
          },
          "metadata": {},
          "output_type": "execute_result",
          "execution_count": 3
        }
      ],
      "source": "sent \u003d \"hello how are you how how are you man hello\"\nwords \u003d sent.split()\nCounter(words)",
      "metadata": {
        "pycharm": {
          "metadata": false,
          "name": "#%%\n",
          "is_executing": false
        }
      }
    },
    {
      "cell_type": "markdown",
      "source": "Its helpful in NLP. We can also get multiple insights directly from counter. \n",
      "metadata": {
        "pycharm": {
          "metadata": false
        }
      }
    },
    {
      "cell_type": "code",
      "execution_count": 5,
      "outputs": [
        {
          "name": "stdout",
          "text": [
            "[(\u0027how\u0027, 3), (\u0027are\u0027, 2)]\n"
          ],
          "output_type": "stream"
        },
        {
          "data": {
            "text/plain": "10"
          },
          "metadata": {},
          "output_type": "execute_result",
          "execution_count": 5
        }
      ],
      "source": "k \u003d Counter(words)\nprint(k.most_common(2)) # will give 2 most word with max frequency\nsum(k.values()) # In case we want to find total no of words in a sentence",
      "metadata": {
        "pycharm": {
          "metadata": false,
          "name": "#%%\n",
          "is_executing": false
        }
      }
    },
    {
      "cell_type": "markdown",
      "source": "There is a tie between \"are\", \"hello\" and \"you\". Most_common will pick in the order  they have occurred inside counter dictionary.\nThere are total 10 words so second output is correct.\n",
      "metadata": {
        "pycharm": {
          "metadata": false
        }
      }
    },
    {
      "cell_type": "code",
      "execution_count": 23,
      "outputs": [
        {
          "data": {
            "text/plain": "[(\u0027man\u0027, 1), (\u0027hello\u0027, 2)]"
          },
          "metadata": {},
          "output_type": "execute_result",
          "execution_count": 23
        }
      ],
      "source": "n \u003d 2 # To find least n elements\nk.most_common()[:-n-1:-1]\n\n",
      "metadata": {
        "pycharm": {
          "metadata": false,
          "name": "#%%\n",
          "is_executing": false
        }
      }
    },
    {
      "cell_type": "code",
      "execution_count": 6,
      "outputs": [
        {
          "data": {
            "text/plain": "[\u0027man\u0027, \u0027are\u0027, \u0027you\u0027, \u0027hello\u0027, \u0027how\u0027]"
          },
          "metadata": {},
          "output_type": "execute_result",
          "execution_count": 6
        }
      ],
      "source": "list(k)",
      "metadata": {
        "pycharm": {
          "metadata": false,
          "name": "#%%\n",
          "is_executing": false
        }
      }
    },
    {
      "cell_type": "markdown",
      "source": "This will basically list all unique keys in counter i.e. all unique elements.\n\n",
      "metadata": {
        "pycharm": {
          "metadata": false
        }
      }
    },
    {
      "cell_type": "code",
      "execution_count": 7,
      "outputs": [
        {
          "data": {
            "text/plain": "{\u0027are\u0027, \u0027hello\u0027, \u0027how\u0027, \u0027man\u0027, \u0027you\u0027}"
          },
          "metadata": {},
          "output_type": "execute_result",
          "execution_count": 7
        }
      ],
      "source": "set(k)",
      "metadata": {
        "pycharm": {
          "metadata": false,
          "name": "#%%\n",
          "is_executing": false
        }
      }
    },
    {
      "cell_type": "markdown",
      "source": "This will create a set of all keys in counter.\n\n",
      "metadata": {
        "pycharm": {
          "metadata": false
        }
      }
    },
    {
      "cell_type": "code",
      "execution_count": 8,
      "outputs": [
        {
          "data": {
            "text/plain": "dict_items([(\u0027man\u0027, 1), (\u0027are\u0027, 2), (\u0027you\u0027, 2), (\u0027hello\u0027, 2), (\u0027how\u0027, 3)])"
          },
          "metadata": {},
          "output_type": "execute_result",
          "execution_count": 8
        }
      ],
      "source": "k.items() # It will create a list of tuples where each tuple is (key,count) so it becomes iterable!!\n\n",
      "metadata": {
        "pycharm": {
          "metadata": false,
          "name": "#%%\n",
          "is_executing": false
        }
      }
    },
    {
      "cell_type": "code",
      "execution_count": 9,
      "outputs": [
        {
          "data": {
            "text/plain": "{\u0027are\u0027: 2, \u0027hello\u0027: 2, \u0027how\u0027: 3, \u0027man\u0027: 1, \u0027you\u0027: 2}"
          },
          "metadata": {},
          "output_type": "execute_result",
          "execution_count": 9
        }
      ],
      "source": "dict(k) # Converts to regular dictionary\n",
      "metadata": {
        "pycharm": {
          "metadata": false,
          "name": "#%%\n",
          "is_executing": false
        }
      }
    },
    {
      "cell_type": "markdown",
      "source": "We can also create a counter object from list of key, value tuple \n\n",
      "metadata": {
        "pycharm": {
          "metadata": false
        }
      }
    },
    {
      "cell_type": "code",
      "execution_count": 22,
      "outputs": [
        {
          "name": "stdout",
          "text": [
            "Counter({\u0027a\u0027: 4, \u0027b\u0027: 3})\nCounter()\n"
          ],
          "output_type": "stream"
        }
      ],
      "source": "second_list \u003d [(\u0027a\u0027,4),(\u0027b\u0027,3)]\nt \u003d Counter(dict(second_list))\nprint(t)\nt.clear() # It will clear the counter!!!\nprint(t)\n\n",
      "metadata": {
        "pycharm": {
          "metadata": false,
          "name": "#%%\n",
          "is_executing": false
        }
      }
    }
  ],
  "metadata": {
    "language_info": {
      "codemirror_mode": {
        "name": "ipython",
        "version": 2
      },
      "file_extension": ".py",
      "mimetype": "text/x-python",
      "name": "python",
      "nbconvert_exporter": "python",
      "pygments_lexer": "ipython2",
      "version": "2.7.6"
    },
    "kernelspec": {
      "name": "python3",
      "language": "python",
      "display_name": "Python 3"
    },
    "stem_cell": {
      "cell_type": "raw",
      "source": "",
      "metadata": {
        "pycharm": {
          "metadata": false
        }
      }
    }
  },
  "nbformat": 4,
  "nbformat_minor": 0
}