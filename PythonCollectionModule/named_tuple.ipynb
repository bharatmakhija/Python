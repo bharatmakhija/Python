{
  "cells": [
    {
      "cell_type": "markdown",
      "source": "# Named Tuples\n\nNormal tuples are accessed via indexes starting from 0 onwards.\n- Even negative indexes can be used to access tuple values from right to left starting from -1 onwards.\n\n ",
      "metadata": {
        "pycharm": {
          "metadata": false
        }
      }
    },
    {
      "cell_type": "code",
      "execution_count": 2,
      "outputs": [
        {
          "name": "stdout",
          "text": [
            "1 1\n3 3\n"
          ],
          "output_type": "stream"
        }
      ],
      "source": "t \u003d (1,2,3)\nprint(t[0], t[-3])\nprint(t[2],t[-1])\n",
      "metadata": {
        "pycharm": {
          "metadata": false,
          "name": "#%%\n",
          "is_executing": false
        }
      }
    },
    {
      "cell_type": "markdown",
      "source": "When Tuple is very large or when its acting as input to some other function proper index values\nshould map to proper function variables else things will go wrong. In such cases we can use named tuples.\n- Its more like a mini class only.\n",
      "metadata": {
        "pycharm": {
          "metadata": false
        }
      }
    },
    {
      "cell_type": "code",
      "execution_count": 9,
      "outputs": [],
      "source": "from collections import namedtuple\n",
      "metadata": {
        "pycharm": {
          "metadata": false,
          "name": "#%%\n",
          "is_executing": false
        }
      }
    },
    {
      "cell_type": "markdown",
      "source": "Lets see how we can use named tuple for our ease:",
      "metadata": {
        "pycharm": {
          "metadata": false
        }
      }
    },
    {
      "cell_type": "code",
      "execution_count": 6,
      "outputs": [],
      "source": "Dog \u003d namedtuple(\u0027Dog\u0027,\u0027Age, Breed, Name\u0027)\n",
      "metadata": {
        "pycharm": {
          "metadata": false,
          "name": "#%%\n",
          "is_executing": false
        }
      }
    },
    {
      "cell_type": "markdown",
      "source": "Now we can easily create a dog tuple without bothering about positions of data.\n\n",
      "metadata": {
        "pycharm": {
          "metadata": false
        }
      }
    },
    {
      "cell_type": "code",
      "execution_count": 11,
      "outputs": [
        {
          "data": {
            "text/plain": "Dog(Age\u003d3, Breed\u003d\u0027Lab\u0027, Name\u003d\u0027Candy\u0027)"
          },
          "metadata": {},
          "output_type": "execute_result",
          "execution_count": 11
        }
      ],
      "source": "Candy_dog \u003d Dog(Age\u003d3, Breed\u003d\u0027Lab\u0027, Name\u003d\u0027Candy\u0027)\nCandy_dog\n",
      "metadata": {
        "pycharm": {
          "metadata": false,
          "name": "#%%\n",
          "is_executing": false
        }
      }
    },
    {
      "cell_type": "markdown",
      "source": "Not only we can create a named tuple. we can access attributes of named tuple using variable names. Thats why its more like a class only.   ",
      "metadata": {
        "pycharm": {
          "metadata": false
        }
      }
    },
    {
      "cell_type": "code",
      "execution_count": 12,
      "outputs": [
        {
          "data": {
            "text/plain": "\u0027Candy\u0027"
          },
          "metadata": {},
          "output_type": "execute_result",
          "execution_count": 12
        }
      ],
      "source": "Candy_dog.Name",
      "metadata": {
        "pycharm": {
          "metadata": false,
          "name": "#%%\n",
          "is_executing": false
        }
      }
    },
    {
      "cell_type": "markdown",
      "source": "We can also create a named tuple like this:\n\n",
      "metadata": {
        "pycharm": {
          "metadata": false
        }
      }
    },
    {
      "cell_type": "code",
      "execution_count": 13,
      "outputs": [
        {
          "data": {
            "text/plain": "Dog(Age\u003d6, Breed\u003d\u0027POM\u0027, Name\u003d\u0027Second_Dog\u0027)"
          },
          "metadata": {},
          "output_type": "execute_result",
          "execution_count": 13
        }
      ],
      "source": "second_dog \u003d Dog(Breed\u003d\u0027POM\u0027, Age\u003d6, Name\u003d\u0027Second_Dog\u0027)\nsecond_dog\n\n",
      "metadata": {
        "pycharm": {
          "metadata": false,
          "name": "#%%\n",
          "is_executing": false
        }
      }
    }
  ],
  "metadata": {
    "language_info": {
      "codemirror_mode": {
        "name": "ipython",
        "version": 2
      },
      "file_extension": ".py",
      "mimetype": "text/x-python",
      "name": "python",
      "nbconvert_exporter": "python",
      "pygments_lexer": "ipython2",
      "version": "2.7.6"
    },
    "kernelspec": {
      "name": "python3",
      "language": "python",
      "display_name": "Python 3"
    },
    "stem_cell": {
      "cell_type": "raw",
      "source": "",
      "metadata": {
        "pycharm": {
          "metadata": false
        }
      }
    }
  },
  "nbformat": 4,
  "nbformat_minor": 0
}